{
 "cells": [
  {
   "cell_type": "markdown",
   "metadata": {},
   "source": [
    "# Softmax exercise\n",
    "\n",
    "*Complete and hand in this completed worksheet (including its outputs and any supporting code outside of the worksheet) with your assignment submission. For more details see the [assignments page](http://vision.stanford.edu/teaching/cs231n/assignments.html) on the course website.*\n",
    "\n",
    "This exercise is analogous to the SVM exercise. You will:\n",
    "\n",
    "- implement a fully-vectorized **loss function** for the Softmax classifier\n",
    "- implement the fully-vectorized expression for its **analytic gradient**\n",
    "- **check your implementation** with numerical gradient\n",
    "- use a validation set to **tune the learning rate and regularization** strength\n",
    "- **optimize** the loss function with **SGD**\n",
    "- **visualize** the final learned weights\n"
   ]
  },
  {
   "cell_type": "code",
   "execution_count": 2,
   "metadata": {},
   "outputs": [],
   "source": [
    "from __future__ import print_function\n",
    "\n",
    "import random\n",
    "import numpy as np\n",
    "from cs231n.data_utils import load_CIFAR10\n",
    "import matplotlib.pyplot as plt\n",
    "\n",
    "%matplotlib inline\n",
    "plt.rcParams['figure.figsize'] = (10.0, 8.0) # set default size of plots\n",
    "plt.rcParams['image.interpolation'] = 'nearest'\n",
    "plt.rcParams['image.cmap'] = 'gray'\n",
    "\n",
    "# for auto-reloading extenrnal modules\n",
    "# see http://stackoverflow.com/questions/1907993/autoreload-of-modules-in-ipython\n",
    "%load_ext autoreload\n",
    "%autoreload 2"
   ]
  },
  {
   "cell_type": "code",
   "execution_count": 3,
   "metadata": {},
   "outputs": [
    {
     "name": "stdout",
     "output_type": "stream",
     "text": [
      "Train data shape:  (49000, 3073)\n",
      "Train labels shape:  (49000,)\n",
      "Validation data shape:  (1000, 3073)\n",
      "Validation labels shape:  (1000,)\n",
      "Test data shape:  (1000, 3073)\n",
      "Test labels shape:  (1000,)\n",
      "dev data shape:  (500, 3073)\n",
      "dev labels shape:  (500,)\n"
     ]
    }
   ],
   "source": [
    "def get_CIFAR10_data(num_training=49000, num_validation=1000, num_test=1000, num_dev=500):\n",
    "    \"\"\"\n",
    "    Load the CIFAR-10 dataset from disk and perform preprocessing to prepare\n",
    "    it for the linear classifier. These are the same steps as we used for the\n",
    "    SVM, but condensed to a single function.  \n",
    "    \"\"\"\n",
    "    # Load the raw CIFAR-10 data\n",
    "    cifar10_dir = 'cs231n/datasets/cifar-10-batches-py'\n",
    "    \n",
    "    X_train, y_train, X_test, y_test = load_CIFAR10(cifar10_dir)\n",
    "    \n",
    "    # subsample the data\n",
    "    mask = list(range(num_training, num_training + num_validation))\n",
    "    X_val = X_train[mask]\n",
    "    y_val = y_train[mask]\n",
    "    mask = list(range(num_training))\n",
    "    X_train = X_train[mask]\n",
    "    y_train = y_train[mask]\n",
    "    mask = list(range(num_test))\n",
    "    X_test = X_test[mask]\n",
    "    y_test = y_test[mask]\n",
    "    mask = np.random.choice(num_training, num_dev, replace=False)\n",
    "    X_dev = X_train[mask]\n",
    "    y_dev = y_train[mask]\n",
    "    \n",
    "    # Preprocessing: reshape the image data into rows\n",
    "    X_train = np.reshape(X_train, (X_train.shape[0], -1))\n",
    "    X_val = np.reshape(X_val, (X_val.shape[0], -1))\n",
    "    X_test = np.reshape(X_test, (X_test.shape[0], -1))\n",
    "    X_dev = np.reshape(X_dev, (X_dev.shape[0], -1))\n",
    "    \n",
    "    # Normalize the data: subtract the mean image\n",
    "    mean_image = np.mean(X_train, axis = 0)\n",
    "    X_train -= mean_image\n",
    "    X_val -= mean_image\n",
    "    X_test -= mean_image\n",
    "    X_dev -= mean_image\n",
    "    \n",
    "    # add bias dimension and transform into columns\n",
    "    X_train = np.hstack([X_train, np.ones((X_train.shape[0], 1))])\n",
    "    X_val = np.hstack([X_val, np.ones((X_val.shape[0], 1))])\n",
    "    X_test = np.hstack([X_test, np.ones((X_test.shape[0], 1))])\n",
    "    X_dev = np.hstack([X_dev, np.ones((X_dev.shape[0], 1))])\n",
    "    \n",
    "    return X_train, y_train, X_val, y_val, X_test, y_test, X_dev, y_dev\n",
    "\n",
    "\n",
    "# Cleaning up variables to prevent loading data multiple times (which may cause memory issue)\n",
    "try:\n",
    "   del X_train, y_train\n",
    "   del X_test, y_test\n",
    "   print('Clear previously loaded data.')\n",
    "except:\n",
    "   pass\n",
    "\n",
    "# Invoke the above function to get our data.\n",
    "X_train, y_train, X_val, y_val, X_test, y_test, X_dev, y_dev = get_CIFAR10_data()\n",
    "print('Train data shape: ', X_train.shape)\n",
    "print('Train labels shape: ', y_train.shape)\n",
    "print('Validation data shape: ', X_val.shape)\n",
    "print('Validation labels shape: ', y_val.shape)\n",
    "print('Test data shape: ', X_test.shape)\n",
    "print('Test labels shape: ', y_test.shape)\n",
    "print('dev data shape: ', X_dev.shape)\n",
    "print('dev labels shape: ', y_dev.shape)"
   ]
  },
  {
   "cell_type": "markdown",
   "metadata": {},
   "source": [
    "## Softmax Classifier\n",
    "\n",
    "Your code for this section will all be written inside **cs231n/classifiers/softmax.py**. \n"
   ]
  },
  {
   "cell_type": "code",
   "execution_count": 4,
   "metadata": {},
   "outputs": [
    {
     "name": "stdout",
     "output_type": "stream",
     "text": [
      "loss: 2.346043\n",
      "sanity check: 2.302585\n"
     ]
    }
   ],
   "source": [
    "# First implement the naive softmax loss function with nested loops.\n",
    "# Open the file cs231n/classifiers/softmax.py and implement the\n",
    "# softmax_loss_naive function.\n",
    "\n",
    "from cs231n.classifiers.softmax import softmax_loss_naive\n",
    "import time\n",
    "\n",
    "# Generate a random softmax weight matrix and use it to compute the loss.\n",
    "W = np.random.randn(3073, 10) * 0.0001\n",
    "loss, grad = softmax_loss_naive(W, X_dev, y_dev, 0.0)\n",
    "\n",
    "# As a rough sanity check, our loss should be something close to -log(0.1).\n",
    "print('loss: %f' % loss)\n",
    "print('sanity check: %f' % (-np.log(0.1)))"
   ]
  },
  {
   "cell_type": "markdown",
   "metadata": {},
   "source": [
    "## Inline Question 1:\n",
    "Why do we expect our loss to be close to -log(0.1)? Explain briefly.**\n",
    "\n",
    "**Your answer:** *Fill this in*\n"
   ]
  },
  {
   "cell_type": "code",
   "execution_count": 8,
   "metadata": {},
   "outputs": [
    {
     "name": "stdout",
     "output_type": "stream",
     "text": [
      "numerical: 2.610960 analytic: 2.610960, relative error: 1.337921e-08\n",
      "numerical: -1.316444 analytic: -1.316444, relative error: 1.809672e-08\n",
      "numerical: 0.257964 analytic: 0.257964, relative error: 6.654069e-08\n",
      "numerical: -1.026750 analytic: -1.026750, relative error: 4.810653e-08\n",
      "numerical: 0.557911 analytic: 0.557911, relative error: 4.864204e-08\n",
      "numerical: -2.491723 analytic: -2.491723, relative error: 5.151289e-09\n",
      "numerical: -0.002229 analytic: -0.002229, relative error: 3.228083e-05\n",
      "numerical: 3.307578 analytic: 3.307578, relative error: 3.722250e-09\n",
      "numerical: 0.244299 analytic: 0.244298, relative error: 7.853189e-08\n",
      "numerical: -0.827248 analytic: -0.827248, relative error: 3.184175e-08\n",
      "numerical: -0.901874 analytic: -0.901874, relative error: 2.188487e-08\n",
      "numerical: 1.526330 analytic: 1.526330, relative error: 3.535702e-08\n",
      "numerical: 0.157704 analytic: 0.157704, relative error: 1.138101e-07\n",
      "numerical: 0.283889 analytic: 0.283889, relative error: 2.088883e-07\n",
      "numerical: 0.920946 analytic: 0.920946, relative error: 6.669947e-09\n",
      "numerical: -1.146937 analytic: -1.146937, relative error: 5.025908e-08\n",
      "numerical: -1.834179 analytic: -1.834179, relative error: 3.011323e-08\n",
      "numerical: 0.625775 analytic: 0.625775, relative error: 8.965642e-08\n",
      "numerical: -3.364572 analytic: -3.364572, relative error: 1.498709e-08\n",
      "numerical: -2.479485 analytic: -2.479485, relative error: 6.732877e-09\n"
     ]
    }
   ],
   "source": [
    "# Complete the implementation of softmax_loss_naive and implement a (naive)\n",
    "# version of the gradient that uses nested loops.\n",
    "loss, grad = softmax_loss_naive(W, X_dev, y_dev, 0.0)\n",
    "\n",
    "# As we did for the SVM, use numeric gradient checking as a debugging tool.\n",
    "# The numeric gradient should be close to the analytic gradient.\n",
    "from cs231n.gradient_check import grad_check_sparse\n",
    "f = lambda w: softmax_loss_naive(w, X_dev, y_dev, 0.0)[0]\n",
    "grad_numerical = grad_check_sparse(f, W, grad, 10)\n",
    "\n",
    "# similar to SVM case, do another gradient check with regularization\n",
    "loss, grad = softmax_loss_naive(W, X_dev, y_dev, 5e1)\n",
    "f = lambda w: softmax_loss_naive(w, X_dev, y_dev, 5e1)[0]\n",
    "grad_numerical = grad_check_sparse(f, W, grad, 10)"
   ]
  },
  {
   "cell_type": "code",
   "execution_count": 33,
   "metadata": {},
   "outputs": [
    {
     "name": "stdout",
     "output_type": "stream",
     "text": [
      "naive loss: 2.346043e+00 computed in 0.110330s\n",
      "vectorized loss: 2.346043e+00 computed in 0.003188s\n",
      "Loss difference: 0.000000\n",
      "Gradient difference: 0.000000\n"
     ]
    }
   ],
   "source": [
    "# Now that we have a naive implementation of the softmax loss function and its gradient,\n",
    "# implement a vectorized version in softmax_loss_vectorized.\n",
    "# The two versions should compute the same results, but the vectorized version should be\n",
    "# much faster.\n",
    "tic = time.time()\n",
    "loss_naive, grad_naive = softmax_loss_naive(W, X_dev, y_dev, 0.000005)\n",
    "toc = time.time()\n",
    "print('naive loss: %e computed in %fs' % (loss_naive, toc - tic))\n",
    "\n",
    "from cs231n.classifiers.softmax import softmax_loss_vectorized\n",
    "tic = time.time()\n",
    "loss_vectorized, grad_vectorized = softmax_loss_vectorized(W, X_dev, y_dev, 0.000005)\n",
    "toc = time.time()\n",
    "print('vectorized loss: %e computed in %fs' % (loss_vectorized, toc - tic))\n",
    "\n",
    "# As we did for the SVM, we use the Frobenius norm to compare the two versions\n",
    "# of the gradient.\n",
    "grad_difference = np.linalg.norm(grad_naive - grad_vectorized, ord='fro')\n",
    "print('Loss difference: %f' % np.abs(loss_naive - loss_vectorized))\n",
    "print('Gradient difference: %f' % grad_difference)"
   ]
  },
  {
   "cell_type": "code",
   "execution_count": 36,
   "metadata": {},
   "outputs": [
    {
     "name": "stdout",
     "output_type": "stream",
     "text": [
      "lr 1.000000e-07 reg 2.500000e+04 train accuracy: 0.323102 val accuracy: 0.342000\n",
      "lr 1.000000e-07 reg 2.777778e+04 train accuracy: 0.326245 val accuracy: 0.332000\n",
      "lr 1.000000e-07 reg 3.055556e+04 train accuracy: 0.328939 val accuracy: 0.343000\n",
      "lr 1.000000e-07 reg 3.333333e+04 train accuracy: 0.320306 val accuracy: 0.332000\n",
      "lr 1.000000e-07 reg 3.611111e+04 train accuracy: 0.319510 val accuracy: 0.330000\n",
      "lr 1.000000e-07 reg 3.888889e+04 train accuracy: 0.320898 val accuracy: 0.331000\n",
      "lr 1.000000e-07 reg 4.166667e+04 train accuracy: 0.315653 val accuracy: 0.325000\n",
      "lr 1.000000e-07 reg 4.444444e+04 train accuracy: 0.310102 val accuracy: 0.329000\n",
      "lr 1.000000e-07 reg 4.722222e+04 train accuracy: 0.309653 val accuracy: 0.321000\n",
      "lr 1.000000e-07 reg 5.000000e+04 train accuracy: 0.305122 val accuracy: 0.329000\n",
      "lr 1.444444e-07 reg 2.500000e+04 train accuracy: 0.326122 val accuracy: 0.350000\n",
      "lr 1.444444e-07 reg 2.777778e+04 train accuracy: 0.324245 val accuracy: 0.339000\n",
      "lr 1.444444e-07 reg 3.055556e+04 train accuracy: 0.315633 val accuracy: 0.335000\n",
      "lr 1.444444e-07 reg 3.333333e+04 train accuracy: 0.309041 val accuracy: 0.327000\n",
      "lr 1.444444e-07 reg 3.611111e+04 train accuracy: 0.320306 val accuracy: 0.332000\n",
      "lr 1.444444e-07 reg 3.888889e+04 train accuracy: 0.317980 val accuracy: 0.329000\n",
      "lr 1.444444e-07 reg 4.166667e+04 train accuracy: 0.317816 val accuracy: 0.324000\n",
      "lr 1.444444e-07 reg 4.444444e+04 train accuracy: 0.310469 val accuracy: 0.327000\n",
      "lr 1.444444e-07 reg 4.722222e+04 train accuracy: 0.303327 val accuracy: 0.317000\n",
      "lr 1.444444e-07 reg 5.000000e+04 train accuracy: 0.301612 val accuracy: 0.313000\n",
      "lr 1.888889e-07 reg 2.500000e+04 train accuracy: 0.332449 val accuracy: 0.353000\n",
      "lr 1.888889e-07 reg 2.777778e+04 train accuracy: 0.325041 val accuracy: 0.342000\n",
      "lr 1.888889e-07 reg 3.055556e+04 train accuracy: 0.322755 val accuracy: 0.335000\n",
      "lr 1.888889e-07 reg 3.333333e+04 train accuracy: 0.319245 val accuracy: 0.327000\n",
      "lr 1.888889e-07 reg 3.611111e+04 train accuracy: 0.314490 val accuracy: 0.331000\n",
      "lr 1.888889e-07 reg 3.888889e+04 train accuracy: 0.315204 val accuracy: 0.333000\n",
      "lr 1.888889e-07 reg 4.166667e+04 train accuracy: 0.322184 val accuracy: 0.340000\n",
      "lr 1.888889e-07 reg 4.444444e+04 train accuracy: 0.306612 val accuracy: 0.325000\n",
      "lr 1.888889e-07 reg 4.722222e+04 train accuracy: 0.312388 val accuracy: 0.324000\n",
      "lr 1.888889e-07 reg 5.000000e+04 train accuracy: 0.307816 val accuracy: 0.328000\n",
      "lr 2.333333e-07 reg 2.500000e+04 train accuracy: 0.326939 val accuracy: 0.338000\n",
      "lr 2.333333e-07 reg 2.777778e+04 train accuracy: 0.324204 val accuracy: 0.338000\n",
      "lr 2.333333e-07 reg 3.055556e+04 train accuracy: 0.326612 val accuracy: 0.339000\n",
      "lr 2.333333e-07 reg 3.333333e+04 train accuracy: 0.325388 val accuracy: 0.339000\n",
      "lr 2.333333e-07 reg 3.611111e+04 train accuracy: 0.319408 val accuracy: 0.333000\n",
      "lr 2.333333e-07 reg 3.888889e+04 train accuracy: 0.317939 val accuracy: 0.333000\n",
      "lr 2.333333e-07 reg 4.166667e+04 train accuracy: 0.312020 val accuracy: 0.325000\n",
      "lr 2.333333e-07 reg 4.444444e+04 train accuracy: 0.320388 val accuracy: 0.339000\n",
      "lr 2.333333e-07 reg 4.722222e+04 train accuracy: 0.306571 val accuracy: 0.319000\n",
      "lr 2.333333e-07 reg 5.000000e+04 train accuracy: 0.315265 val accuracy: 0.332000\n",
      "lr 2.777778e-07 reg 2.500000e+04 train accuracy: 0.319020 val accuracy: 0.343000\n",
      "lr 2.777778e-07 reg 2.777778e+04 train accuracy: 0.327204 val accuracy: 0.355000\n",
      "lr 2.777778e-07 reg 3.055556e+04 train accuracy: 0.322102 val accuracy: 0.335000\n",
      "lr 2.777778e-07 reg 3.333333e+04 train accuracy: 0.317000 val accuracy: 0.332000\n",
      "lr 2.777778e-07 reg 3.611111e+04 train accuracy: 0.324020 val accuracy: 0.330000\n",
      "lr 2.777778e-07 reg 3.888889e+04 train accuracy: 0.314327 val accuracy: 0.334000\n",
      "lr 2.777778e-07 reg 4.166667e+04 train accuracy: 0.314184 val accuracy: 0.323000\n",
      "lr 2.777778e-07 reg 4.444444e+04 train accuracy: 0.298408 val accuracy: 0.317000\n",
      "lr 2.777778e-07 reg 4.722222e+04 train accuracy: 0.307980 val accuracy: 0.309000\n",
      "lr 2.777778e-07 reg 5.000000e+04 train accuracy: 0.300939 val accuracy: 0.319000\n",
      "lr 3.222222e-07 reg 2.500000e+04 train accuracy: 0.325449 val accuracy: 0.340000\n",
      "lr 3.222222e-07 reg 2.777778e+04 train accuracy: 0.318286 val accuracy: 0.329000\n",
      "lr 3.222222e-07 reg 3.055556e+04 train accuracy: 0.315878 val accuracy: 0.336000\n",
      "lr 3.222222e-07 reg 3.333333e+04 train accuracy: 0.323102 val accuracy: 0.341000\n",
      "lr 3.222222e-07 reg 3.611111e+04 train accuracy: 0.314327 val accuracy: 0.336000\n",
      "lr 3.222222e-07 reg 3.888889e+04 train accuracy: 0.317082 val accuracy: 0.336000\n",
      "lr 3.222222e-07 reg 4.166667e+04 train accuracy: 0.309061 val accuracy: 0.333000\n",
      "lr 3.222222e-07 reg 4.444444e+04 train accuracy: 0.307980 val accuracy: 0.323000\n",
      "lr 3.222222e-07 reg 4.722222e+04 train accuracy: 0.305633 val accuracy: 0.316000\n",
      "lr 3.222222e-07 reg 5.000000e+04 train accuracy: 0.305959 val accuracy: 0.322000\n",
      "lr 3.666667e-07 reg 2.500000e+04 train accuracy: 0.325429 val accuracy: 0.336000\n",
      "lr 3.666667e-07 reg 2.777778e+04 train accuracy: 0.321245 val accuracy: 0.337000\n",
      "lr 3.666667e-07 reg 3.055556e+04 train accuracy: 0.323143 val accuracy: 0.335000\n",
      "lr 3.666667e-07 reg 3.333333e+04 train accuracy: 0.324816 val accuracy: 0.330000\n",
      "lr 3.666667e-07 reg 3.611111e+04 train accuracy: 0.311184 val accuracy: 0.321000\n",
      "lr 3.666667e-07 reg 3.888889e+04 train accuracy: 0.309286 val accuracy: 0.323000\n",
      "lr 3.666667e-07 reg 4.166667e+04 train accuracy: 0.318020 val accuracy: 0.330000\n",
      "lr 3.666667e-07 reg 4.444444e+04 train accuracy: 0.308551 val accuracy: 0.318000\n",
      "lr 3.666667e-07 reg 4.722222e+04 train accuracy: 0.306347 val accuracy: 0.319000\n",
      "lr 3.666667e-07 reg 5.000000e+04 train accuracy: 0.303735 val accuracy: 0.314000\n",
      "lr 4.111111e-07 reg 2.500000e+04 train accuracy: 0.330939 val accuracy: 0.344000\n",
      "lr 4.111111e-07 reg 2.777778e+04 train accuracy: 0.324082 val accuracy: 0.336000\n",
      "lr 4.111111e-07 reg 3.055556e+04 train accuracy: 0.314857 val accuracy: 0.324000\n",
      "lr 4.111111e-07 reg 3.333333e+04 train accuracy: 0.317000 val accuracy: 0.335000\n",
      "lr 4.111111e-07 reg 3.611111e+04 train accuracy: 0.316551 val accuracy: 0.336000\n",
      "lr 4.111111e-07 reg 3.888889e+04 train accuracy: 0.319143 val accuracy: 0.332000\n",
      "lr 4.111111e-07 reg 4.166667e+04 train accuracy: 0.309224 val accuracy: 0.327000\n",
      "lr 4.111111e-07 reg 4.444444e+04 train accuracy: 0.306755 val accuracy: 0.322000\n",
      "lr 4.111111e-07 reg 4.722222e+04 train accuracy: 0.294898 val accuracy: 0.317000\n",
      "lr 4.111111e-07 reg 5.000000e+04 train accuracy: 0.298714 val accuracy: 0.319000\n",
      "lr 4.555556e-07 reg 2.500000e+04 train accuracy: 0.322816 val accuracy: 0.336000\n",
      "lr 4.555556e-07 reg 2.777778e+04 train accuracy: 0.334469 val accuracy: 0.341000\n",
      "lr 4.555556e-07 reg 3.055556e+04 train accuracy: 0.330612 val accuracy: 0.344000\n",
      "lr 4.555556e-07 reg 3.333333e+04 train accuracy: 0.322245 val accuracy: 0.327000\n",
      "lr 4.555556e-07 reg 3.611111e+04 train accuracy: 0.309898 val accuracy: 0.332000\n",
      "lr 4.555556e-07 reg 3.888889e+04 train accuracy: 0.316184 val accuracy: 0.335000\n",
      "lr 4.555556e-07 reg 4.166667e+04 train accuracy: 0.314082 val accuracy: 0.314000\n",
      "lr 4.555556e-07 reg 4.444444e+04 train accuracy: 0.312061 val accuracy: 0.329000\n",
      "lr 4.555556e-07 reg 4.722222e+04 train accuracy: 0.301816 val accuracy: 0.321000\n",
      "lr 4.555556e-07 reg 5.000000e+04 train accuracy: 0.309429 val accuracy: 0.319000\n",
      "lr 5.000000e-07 reg 2.500000e+04 train accuracy: 0.327041 val accuracy: 0.347000\n",
      "lr 5.000000e-07 reg 2.777778e+04 train accuracy: 0.313878 val accuracy: 0.323000\n",
      "lr 5.000000e-07 reg 3.055556e+04 train accuracy: 0.313673 val accuracy: 0.334000\n",
      "lr 5.000000e-07 reg 3.333333e+04 train accuracy: 0.328571 val accuracy: 0.338000\n",
      "lr 5.000000e-07 reg 3.611111e+04 train accuracy: 0.315469 val accuracy: 0.324000\n",
      "lr 5.000000e-07 reg 3.888889e+04 train accuracy: 0.307796 val accuracy: 0.318000\n",
      "lr 5.000000e-07 reg 4.166667e+04 train accuracy: 0.314367 val accuracy: 0.325000\n",
      "lr 5.000000e-07 reg 4.444444e+04 train accuracy: 0.313408 val accuracy: 0.335000\n",
      "lr 5.000000e-07 reg 4.722222e+04 train accuracy: 0.308429 val accuracy: 0.317000\n",
      "lr 5.000000e-07 reg 5.000000e+04 train accuracy: 0.295265 val accuracy: 0.297000\n",
      "best validation accuracy achieved during cross-validation: 0.355000\n"
     ]
    }
   ],
   "source": [
    "# Use the validation set to tune hyperparameters (regularization strength and\n",
    "# learning rate). You should experiment with different ranges for the learning\n",
    "# rates and regularization strengths; if you are careful you should be able to\n",
    "# get a classification accuracy of over 0.35 on the validation set.\n",
    "from cs231n.classifiers import Softmax\n",
    "results = {}\n",
    "best_val = -1\n",
    "best_softmax = None\n",
    "learning_rates = [1e-7, 5e-7]\n",
    "regularization_strengths = [2.5e4, 5e4]\n",
    "\n",
    "################################################################################\n",
    "# TODO:                                                                        #\n",
    "# Use the validation set to set the learning rate and regularization strength. #\n",
    "# This should be identical to the validation that you did for the SVM; save    #\n",
    "# the best trained softmax classifer in best_softmax.                          #\n",
    "################################################################################\n",
    "rate_space = np.linspace(learning_rates[0], learning_rates[1], 10)\n",
    "reg_space = np.linspace(regularization_strengths[0], regularization_strengths[1], 10)\n",
    "for lr in rate_space:\n",
    "    for reg in reg_space:\n",
    "        softmax = Softmax()\n",
    "        softmax.train(X_train, y_train, lr, reg, num_iters=1500, verbose=False)\n",
    "        y_train_pred = softmax.predict(X_train)\n",
    "        train_accuracy = np.mean(y_train == y_train_pred)\n",
    "        y_val_pred = softmax.predict(X_val)\n",
    "        val_accuracy = np.mean(y_val == y_val_pred)\n",
    "        if val_accuracy > best_val:\n",
    "            best_val = val_accuracy\n",
    "            best_softmax = softmax\n",
    "        results[(lr, reg)] = (train_accuracy, val_accuracy)\n",
    "################################################################################\n",
    "#                              END OF YOUR CODE                                #\n",
    "################################################################################\n",
    "    \n",
    "# Print out results.\n",
    "for lr, reg in sorted(results):\n",
    "    train_accuracy, val_accuracy = results[(lr, reg)]\n",
    "    print('lr %e reg %e train accuracy: %f val accuracy: %f' % (\n",
    "                lr, reg, train_accuracy, val_accuracy))\n",
    "    \n",
    "print('best validation accuracy achieved during cross-validation: %f' % best_val)"
   ]
  },
  {
   "cell_type": "code",
   "execution_count": 37,
   "metadata": {},
   "outputs": [
    {
     "name": "stdout",
     "output_type": "stream",
     "text": [
      "softmax on raw pixels final test set accuracy: 0.341000\n"
     ]
    }
   ],
   "source": [
    "# evaluate on test set\n",
    "# Evaluate the best softmax on test set\n",
    "y_test_pred = best_softmax.predict(X_test)\n",
    "test_accuracy = np.mean(y_test == y_test_pred)\n",
    "print('softmax on raw pixels final test set accuracy: %f' % (test_accuracy, ))"
   ]
  },
  {
   "cell_type": "markdown",
   "metadata": {},
   "source": [
    "**Inline Question** - *True or False*\n",
    "\n",
    "It's possible to add a new datapoint to a training set that would leave the SVM loss unchanged, but this is not the case with the Softmax classifier loss.\n",
    "\n",
    "*Your answer*:\n",
    "\n",
    "*Your explanation*:"
   ]
  },
  {
   "cell_type": "code",
   "execution_count": 38,
   "metadata": {},
   "outputs": [
    {
     "data": {
      "image/png": "[encoded data removed]",
      "text/plain": [
       "<Figure size 432x288 with 10 Axes>"
      ]
     },
     "metadata": {
      "needs_background": "light"
     },
     "output_type": "display_data"
    }
   ],
   "source": [
    "# Visualize the learned weights for each class\n",
    "w = best_softmax.W[:-1,:] # strip out the bias\n",
    "w = w.reshape(32, 32, 3, 10)\n",
    "\n",
    "w_min, w_max = np.min(w), np.max(w)\n",
    "\n",
    "classes = ['plane', 'car', 'bird', 'cat', 'deer', 'dog', 'frog', 'horse', 'ship', 'truck']\n",
    "for i in range(10):\n",
    "    plt.subplot(2, 5, i + 1)\n",
    "    \n",
    "    # Rescale the weights to be between 0 and 255\n",
    "    wimg = 255.0 * (w[:, :, :, i].squeeze() - w_min) / (w_max - w_min)\n",
    "    plt.imshow(wimg.astype('uint8'))\n",
    "    plt.axis('off')\n",
    "    plt.title(classes[i])"
   ]
  }
 ],
 "metadata": {
  "kernelspec": {
   "display_name": "Python 3",
   "language": "python",
   "name": "python3"
  },
  "language_info": {
   "codemirror_mode": {
    "name": "ipython",
    "version": 3
   },
   "file_extension": ".py",
   "mimetype": "text/x-python",
   "name": "python",
   "nbconvert_exporter": "python",
   "pygments_lexer": "ipython3",
   "version": "3.7.1"
  }
 },
 "nbformat": 4,
 "nbformat_minor": 1
}
